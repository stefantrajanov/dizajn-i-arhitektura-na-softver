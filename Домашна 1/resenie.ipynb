{
 "cells": [
  {
   "metadata": {},
   "cell_type": "markdown",
   "source": [
    "# Developed by\n",
    "Стефан Трајанов 221175\n",
    "\n",
    "Филип Трајановиќ 221121\n",
    "\n",
    "Глигорчо Трајков 221274\n",
    "\n"
   ],
   "id": "8a77807f92f26ee"
  },
  {
   "metadata": {},
   "cell_type": "code",
   "source": [
    "# First we install the required packages\n",
    "!pip install selenium\n",
    "!pip install beautifulsoup4\n",
    "!pip install pandas xlrd"
   ],
   "id": "fbc121e30a2defb3",
   "outputs": [],
   "execution_count": null
  },
  {
   "metadata": {},
   "cell_type": "markdown",
   "source": "Importing selenium",
   "id": "e51d5d22f01fca87"
  },
  {
   "metadata": {
    "ExecuteTime": {
     "end_time": "2024-11-09T01:44:12.389099Z",
     "start_time": "2024-11-09T01:44:11.015906Z"
    }
   },
   "cell_type": "code",
   "source": [
    "from selenium.webdriver.common.by import By\n",
    "from selenium import webdriver\n",
    "from bs4 import BeautifulSoup\n",
    "\n",
    "browser = webdriver.Chrome()"
   ],
   "id": "2d6be2035b866089",
   "outputs": [],
   "execution_count": 1
  },
  {
   "metadata": {},
   "cell_type": "markdown",
   "source": "We open a random stock history page and accept the cookies to start our scraping.",
   "id": "5f58fb92e014e95b"
  },
  {
   "metadata": {
    "ExecuteTime": {
     "end_time": "2024-11-09T00:57:24.631629Z",
     "start_time": "2024-11-09T00:57:22.457023Z"
    }
   },
   "cell_type": "code",
   "source": [
    "browser.get('https://www.mse.mk/mk/stats/symbolhistory/kmb')\n",
    "browser.execute_script(\"location.href='/mk/Home/AcceptCookiesConsent'\");\n",
    "browser.get(\"https://www.mse.mk/mk/stats/symbolhistory/kmb\")"
   ],
   "id": "30a3d782efa879a2",
   "outputs": [],
   "execution_count": 101
  },
  {
   "metadata": {},
   "cell_type": "markdown",
   "source": "Finding all the stock codes.",
   "id": "6924c3bdacdf332e"
  },
  {
   "metadata": {
    "ExecuteTime": {
     "end_time": "2024-11-09T00:57:24.671723Z",
     "start_time": "2024-11-09T00:57:24.636520Z"
    }
   },
   "cell_type": "code",
   "source": [
    "stock_codes = browser.find_element(By.CSS_SELECTOR, \"#Code\").text.split(\"\\n\")\n",
    "stock_codes = [string for string in stock_codes if not any(char.isdigit() for char in string)]\n",
    "print(stock_codes)\n"
   ],
   "id": "ea94ec34fb2a55ff",
   "outputs": [
    {
     "name": "stdout",
     "output_type": "stream",
     "text": [
      "['ADIN', 'ALK', 'ALKB', 'AMEH', 'APTK', 'ATPP', 'AUMK', 'BANA', 'BGOR', 'BIKF', 'BIM', 'BLTU', 'CBNG', 'CDHV', 'CEVI', 'CKB', 'CKBKO', 'DEBA', 'DIMI', 'EDST', 'ELMA', 'ELNC', 'ENER', 'ENSA', 'EUHA', 'EUMK', 'EVRO', 'FAKM', 'FERS', 'FKTL', 'FROT', 'FUBT', 'GALE', 'GDKM', 'GECK', 'GECT', 'GIMS', 'GRDN', 'GRNT', 'GRSN', 'GRZD', 'GTC', 'GTRG', 'IJUG', 'INB', 'INHO', 'INOV', 'INPR', 'INTP', 'JAKO', 'JUSK', 'KARO', 'KDFO', 'KJUBI', 'KKST', 'KLST', 'KMB', 'KMPR', 'KOMU', 'KONF', 'KONZ', 'KORZ', 'KPSS', 'KULT', 'KVAS', 'LAJO', 'LHND', 'LOTO', 'LOZP', 'MAGP', 'MAKP', 'MAKS', 'MB', 'MERM', 'MKSD', 'MLKR', 'MODA', 'MPOL', 'MPT', 'MPTE', 'MTUR', 'MZHE', 'MZPU', 'NEME', 'NOSK', 'OBPP', 'OILK', 'OKTA', 'OMOS', 'OPFO', 'OPTK', 'ORAN', 'OSPO', 'OTEK', 'PELK', 'PGGV', 'PKB', 'POPK', 'PPIV', 'PROD', 'PROT', 'PTRS', 'RADE', 'REPL', 'RIMI', 'RINS', 'RZEK', 'RZIT', 'RZIZ', 'RZLE', 'RZLV', 'RZTK', 'RZUG', 'RZUS', 'SBT', 'SDOM', 'SIL', 'SKON', 'SKP', 'SLAV', 'SNBT', 'SNBTO', 'SOLN', 'SPAZ', 'SPAZP', 'SPOL', 'SSPR', 'STB', 'STBP', 'STIL', 'STOK', 'TAJM', 'TBKO', 'TEAL', 'TEHN', 'TEL', 'TETE', 'TIKV', 'TKPR', 'TKVS', 'TNB', 'TRDB', 'TRPS', 'TRUB', 'TSMP', 'TSZS', 'TTK', 'TTKO', 'UNI', 'USJE', 'VARG', 'VFPM', 'VITA', 'VROS', 'VSC', 'VTKS', 'ZAS', 'ZILU', 'ZILUP', 'ZIMS', 'ZKAR', 'ZPKO', 'ZPOG', 'ZUAS']\n"
     ]
    }
   ],
   "execution_count": 102
  },
  {
   "metadata": {},
   "cell_type": "markdown",
   "source": "Gathering all the stock data with beautiful soap",
   "id": "142fb875079d3a75"
  },
  {
   "metadata": {
    "ExecuteTime": {
     "end_time": "2024-11-09T01:08:26.878769Z",
     "start_time": "2024-11-09T00:57:29.468936Z"
    }
   },
   "cell_type": "code",
   "source": [
    "import csv\n",
    "all_company_data = []\n",
    "\n",
    "headers = ['КОМПАНИЈА', 'Датум', 'Цена на последна трансакција', 'Мак', 'Мин', 'Просечна цена', '%пром.', 'Количина', 'Промет во БЕСТ во денари', 'Вкупен промет во денари']\n",
    "file_path = 'output_file.csv'\n",
    "\n",
    "\n",
    "with open(file_path, mode='w', newline='', encoding='utf-8') as file:\n",
    "    writer = csv.writer(file)\n",
    "    writer.writerow(headers)\n",
    "    for stock_code in stock_codes:\n",
    "        browser.get(f'https://www.mse.mk/mk/stats/symbolhistory/{stock_code}')\n",
    "        for i in range(1,12):\n",
    "            try:\n",
    "                year = 2025 - i\n",
    "                new_start_date = \"01.1.\" + str(year)\n",
    "                new_end_date = \"31.12.\" + str(year)\n",
    "                \n",
    "                start_date = browser.find_element(By.CSS_SELECTOR, \"#FromDate\")\n",
    "                end_date = browser.find_element(By.CSS_SELECTOR, \"#ToDate\")\n",
    "                search_button = browser.find_element(By.CSS_SELECTOR, \"#report-filter-container ul .container-end input\")\n",
    "                \n",
    "                browser.execute_script(\"arguments[0].setAttribute('value', arguments[1])\", start_date, new_start_date)\n",
    "                browser.execute_script(\"arguments[0].setAttribute('value', arguments[1])\", end_date, new_end_date)\n",
    "                search_button.click()\n",
    "                \n",
    "                table_of_data = browser.find_element(By.CSS_SELECTOR, \"#resultsTable tbody\")\n",
    "                soup = BeautifulSoup(table_of_data.get_attribute(\"innerHTML\"), 'html.parser')\n",
    "                rows = soup.find_all(\"tr\")\n",
    "                \n",
    "                for row in rows:\n",
    "                    data = row.text.split('\\n')\n",
    "                    data.pop() \n",
    "                    data.remove('')\n",
    "                    if data.__contains__(''):\n",
    "                        continue\n",
    "                    data.insert(0, stock_code)\n",
    "                    writer.writerow(data)\n",
    "            except:\n",
    "                continue\n"
   ],
   "id": "571ac1ca690103c8",
   "outputs": [],
   "execution_count": 103
  }
 ],
 "metadata": {
  "kernelspec": {
   "display_name": "Python 3",
   "language": "python",
   "name": "python3"
  },
  "language_info": {
   "codemirror_mode": {
    "name": "ipython",
    "version": 2
   },
   "file_extension": ".py",
   "mimetype": "text/x-python",
   "name": "python",
   "nbconvert_exporter": "python",
   "pygments_lexer": "ipython2",
   "version": "2.7.6"
  }
 },
 "nbformat": 4,
 "nbformat_minor": 5
}
